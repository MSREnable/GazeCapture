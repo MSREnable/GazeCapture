{
 "cells": [
  {
   "cell_type": "code",
   "execution_count": 1,
   "metadata": {},
   "outputs": [],
   "source": [
    "import math\n",
    "import matplotlib.pyplot as plt\n",
    "import numpy as np\n",
    "import pandas as pd\n",
    "\n",
    "END_LR = 3E-3\n",
    "LR_FACTOR = 6\n",
    "\n",
    "min_lr = END_LR / LR_FACTOR\n",
    "max_lr = END_LR\n",
    "\n",
    "shape_type = 'triangular'\n",
    "decay_type = 'step_decay'\n",
    "\n",
    "epoch_count = 30\n",
    "epochs_per_step = 4  # epochs per step\n",
    "\n",
    "batch_size = 2  # datapoints per batch (limited by GPU memory)\n",
    "dataset_size = 5\n",
    "\n",
    "batch_count = math.ceil(dataset_size / batch_size)  # batches per epoch\n",
    "step_size = epochs_per_step * batch_count  # batches per step\n",
    "\n",
    "# step = lambda it: math.floor(1 + it / step_size)\n",
    "# cycle = lambda it: math.floor(1 + it / (2 * step_size))\n",
    "# epoch = lambda it: math.floor(it / batch_count)"
   ]
  },
  {
   "cell_type": "code",
   "execution_count": 2,
   "metadata": {},
   "outputs": [],
   "source": [
    "# epochs = []\n",
    "# cycles = []\n",
    "# steps = []\n",
    "# for i in range(batch_count * epoch_count):\n",
    "#     steps.append(step(i))   \n",
    "#     cycles.append(cycle(i))\n",
    "#     epochs.append(epoch(i))"
   ]
  },
  {
   "cell_type": "code",
   "execution_count": 3,
   "metadata": {},
   "outputs": [],
   "source": [
    "# df=pd.DataFrame({'x': range(batch_count * epoch_count), \n",
    "#                  'epochs': epochs, \n",
    "#                  'cycles': cycles, \n",
    "#                  'steps': steps})\n",
    " \n",
    "# # multiple line plot\n",
    "# plt.plot( 'x', 'epochs', data=df)\n",
    "# plt.plot( 'x', 'cycles', data=df)\n",
    "# plt.plot( 'x', 'steps', data=df)\n",
    "# plt.legend()"
   ]
  },
  {
   "cell_type": "code",
   "execution_count": 4,
   "metadata": {},
   "outputs": [],
   "source": [
    "def decay_function(decay_type, epochs_per_step):   \n",
    "    if decay_type == 'no_decay':\n",
    "        decay = lambda current_epoch: 1.\n",
    "    elif decay_type == 'step_decay':\n",
    "        drop = 0.5\n",
    "        decay = lambda current_epoch: math.pow(drop, math.floor(1 + current_epoch / (2 * epochs_per_step)))\n",
    "    elif decay_type == 'exp_decay':\n",
    "        k = 0.1\n",
    "        decay = lambda current_epoch: math.exp(-k * current_epoch)\n",
    "    elif decay_type == 'time_decay':\n",
    "        decay_time = 0.1\n",
    "        decay = lambda current_epoch: 1. / (1. + decay_time * current_epoch)\n",
    "\n",
    "    return decay"
   ]
  },
  {
   "cell_type": "code",
   "execution_count": 5,
   "metadata": {},
   "outputs": [],
   "source": [
    "def shape_function(shape_type, step_size):\n",
    "    if shape_type == 'flat':\n",
    "        shape = lambda it: 1.\n",
    "    elif shape_type == 'triangular':\n",
    "        # for a given iteration, determines which cycle it belongs to\n",
    "        # note that a cycle is 2x steps in the triangular waveform\n",
    "        cycle = lambda it: math.floor(1 + it / (2 * step_size))\n",
    "\n",
    "        shape = lambda it: max(0, (1 - abs(it / step_size - 2 * cycle(it) + 1)))\n",
    "\n",
    "    return shape"
   ]
  },
  {
   "cell_type": "code",
   "execution_count": 6,
   "metadata": {},
   "outputs": [],
   "source": [
    "def cyclical_lr(batch_count, shape, decay, min_lr=3e-4, max_lr=3e-3):\n",
    "    epoch = lambda it: math.floor(it / batch_count)\n",
    "\n",
    "    # Lambda function to calculate the LR\n",
    "    lr_lambda = lambda it: min_lr + (max_lr - min_lr) * shape(it) * decay(epoch(it))\n",
    "\n",
    "    return lr_lambda\n"
   ]
  },
  {
   "cell_type": "code",
   "execution_count": 7,
   "metadata": {},
   "outputs": [],
   "source": [
    "clr = cyclical_lr(batch_count,\n",
    "                  shape=shape_function(shape_type, step_size),\n",
    "                  decay=decay_function(decay_type, epochs_per_step),\n",
    "                  min_lr=min_lr,\n",
    "                  max_lr=max_lr,\n",
    "                  )"
   ]
  },
  {
   "cell_type": "code",
   "execution_count": 8,
   "metadata": {},
   "outputs": [],
   "source": [
    "batch_num = 0\n",
    "all_lrs = []\n",
    "\n",
    "for current_epoch in range(epoch_count):\n",
    "    lrs = []\n",
    "    for j in range(batch_count):\n",
    "        # this is equivalent to calling scheduler.step() once per batch\n",
    "        lrs.append(clr(batch_num))\n",
    "        batch_num += 1\n",
    "\n",
    "    all_lrs.append(lrs)"
   ]
  },
  {
   "cell_type": "code",
   "execution_count": 9,
   "metadata": {},
   "outputs": [
    {
     "data": {
      "text/plain": [
       "[0.0005,\n",
       " 0.0006041666666666666,\n",
       " 0.0007083333333333334,\n",
       " 0.0008125000000000001,\n",
       " 0.0009166666666666665,\n",
       " 0.0010208333333333334,\n",
       " 0.0011250000000000001,\n",
       " 0.001229166666666667,\n",
       " 0.001333333333333333,\n",
       " 0.0014375,\n",
       " 0.0015416666666666669,\n",
       " 0.0016458333333333331,\n",
       " 0.00175,\n",
       " 0.0016458333333333336,\n",
       " 0.0015416666666666667,\n",
       " 0.0014375,\n",
       " 0.0013333333333333335,\n",
       " 0.0012291666666666666,\n",
       " 0.0011250000000000001,\n",
       " 0.0010208333333333334,\n",
       " 0.0009166666666666665,\n",
       " 0.0008125000000000001,\n",
       " 0.0007083333333333334,\n",
       " 0.0006041666666666666,\n",
       " 0.0005,\n",
       " 0.0005520833333333335,\n",
       " 0.0006041666666666666,\n",
       " 0.00065625,\n",
       " 0.0007083333333333334,\n",
       " 0.0007604166666666666,\n",
       " 0.0008125000000000001,\n",
       " 0.0008645833333333335,\n",
       " 0.0009166666666666665,\n",
       " 0.00096875,\n",
       " 0.0010208333333333334,\n",
       " 0.0010729166666666665,\n",
       " 0.0011250000000000001,\n",
       " 0.0010729166666666665,\n",
       " 0.0010208333333333334,\n",
       " 0.00096875,\n",
       " 0.0009166666666666665,\n",
       " 0.0008645833333333335,\n",
       " 0.0008125000000000001,\n",
       " 0.0007604166666666666,\n",
       " 0.0007083333333333334,\n",
       " 0.00065625,\n",
       " 0.0006041666666666666,\n",
       " 0.0005520833333333335,\n",
       " 0.0005,\n",
       " 0.0005260416666666666,\n",
       " 0.0005520833333333335,\n",
       " 0.000578125,\n",
       " 0.0006041666666666666,\n",
       " 0.0006302083333333334,\n",
       " 0.00065625,\n",
       " 0.0006822916666666665,\n",
       " 0.0007083333333333334,\n",
       " 0.000734375,\n",
       " 0.0007604166666666666,\n",
       " 0.0007864583333333335,\n",
       " 0.0008125000000000001,\n",
       " 0.0007864583333333335,\n",
       " 0.0007604166666666666,\n",
       " 0.000734375,\n",
       " 0.0007083333333333334,\n",
       " 0.0006822916666666665,\n",
       " 0.00065625,\n",
       " 0.0006302083333333334,\n",
       " 0.0006041666666666666,\n",
       " 0.000578125,\n",
       " 0.0005520833333333335,\n",
       " 0.0005260416666666666,\n",
       " 0.0005,\n",
       " 0.0005130208333333333,\n",
       " 0.0005260416666666667,\n",
       " 0.0005390625,\n",
       " 0.0005520833333333332,\n",
       " 0.0005651041666666668,\n",
       " 0.000578125,\n",
       " 0.0005911458333333333,\n",
       " 0.0006041666666666667,\n",
       " 0.0006171875,\n",
       " 0.0006302083333333333,\n",
       " 0.0006432291666666667,\n",
       " 0.00065625,\n",
       " 0.0006432291666666667,\n",
       " 0.0006302083333333333,\n",
       " 0.0006171875,\n",
       " 0.0006041666666666667,\n",
       " 0.0005911458333333333]"
      ]
     },
     "execution_count": 9,
     "metadata": {},
     "output_type": "execute_result"
    }
   ],
   "source": [
    "combined_lrs = []\n",
    "for lrs in all_lrs:\n",
    "    combined_lrs.extend(lrs)\n",
    "    \n",
    "combined_lrs"
   ]
  },
  {
   "cell_type": "code",
   "execution_count": 10,
   "metadata": {},
   "outputs": [
    {
     "data": {
      "text/plain": [
       "[<matplotlib.lines.Line2D at 0x7f111fa740f0>]"
      ]
     },
     "execution_count": 10,
     "metadata": {},
     "output_type": "execute_result"
    },
    {
     "data": {
      "image/png": "[encoded data removed]",
      "text/plain": [
       "<Figure size 432x288 with 1 Axes>"
      ]
     },
     "metadata": {
      "needs_background": "light"
     },
     "output_type": "display_data"
    }
   ],
   "source": [
    "plt.plot(combined_lrs)"
   ]
  },
  {
   "cell_type": "code",
   "execution_count": 11,
   "metadata": {},
   "outputs": [
    {
     "data": {
      "image/png": "[encoded data removed]",
      "text/plain": [
       "<Figure size 432x288 with 30 Axes>"
      ]
     },
     "metadata": {
      "needs_background": "light"
     },
     "output_type": "display_data"
    }
   ],
   "source": [
    "plot_columns = 5\n",
    "plot_rows = math.ceil(epoch_count / plot_columns)\n",
    "\n",
    "fig, axs = plt.subplots(plot_rows, plot_columns, sharex=True, sharey=True)\n",
    "\n",
    "for current_epoch in range(epoch_count):\n",
    "    row = math.floor(current_epoch / plot_columns)\n",
    "    column = current_epoch % plot_columns\n",
    "    axs[row, column].plot(all_lrs[current_epoch])\n",
    "    axs[row, column].set_title(f'Epoch {current_epoch + 1}')"
   ]
  },
  {
   "cell_type": "code",
   "execution_count": null,
   "metadata": {},
   "outputs": [],
   "source": []
  }
 ],
 "metadata": {
  "kernelspec": {
   "display_name": "Python 3",
   "language": "python",
   "name": "python3"
  },
  "language_info": {
   "codemirror_mode": {
    "name": "ipython",
    "version": 3
   },
   "file_extension": ".py",
   "mimetype": "text/x-python",
   "name": "python",
   "nbconvert_exporter": "python",
   "pygments_lexer": "ipython3",
   "version": "3.7.3"
  }
 },
 "nbformat": 4,
 "nbformat_minor": 4
}
